{
 "cells": [
  {
   "cell_type": "code",
   "execution_count": 21,
   "metadata": {},
   "outputs": [],
   "source": [
    "import requests\n",
    "requests.packages.urllib3.disable_warnings()\n",
    "import json\n",
    "import numpy as np"
   ]
  },
  {
   "cell_type": "code",
   "execution_count": 22,
   "metadata": {},
   "outputs": [],
   "source": [
    "def makeRequest(data: dict, modelName:str = \"model\", port: int = 8443) -> requests.Response:\n",
    "    url = f\"https://127.0.0.1:{port}/predictions/{modelName}\"\n",
    "    r = requests.get(url, data=json.dumps({\"data\": data}), verify=False)\n",
    "    return r"
   ]
  },
  {
   "cell_type": "code",
   "execution_count": 24,
   "metadata": {},
   "outputs": [
    {
     "name": "stdout",
     "output_type": "stream",
     "text": [
      "[\n",
      "  [\n",
      "    0.5342158079147339,\n",
      "    0.8330368995666504\n",
      "  ],\n",
      "  [\n",
      "    0.5346289873123169,\n",
      "    0.8347043395042419\n",
      "  ]\n",
      "]\n"
     ]
    }
   ],
   "source": [
    "testData = np.random.rand(2,2).tolist()\n",
    "r = makeRequest(testData, \"model\")\n",
    "print(r.text)"
   ]
  },
  {
   "cell_type": "code",
   "execution_count": null,
   "metadata": {},
   "outputs": [],
   "source": []
  }
 ],
 "metadata": {
  "kernelspec": {
   "display_name": "base",
   "language": "python",
   "name": "python3"
  },
  "language_info": {
   "codemirror_mode": {
    "name": "ipython",
    "version": 3
   },
   "file_extension": ".py",
   "mimetype": "text/x-python",
   "name": "python",
   "nbconvert_exporter": "python",
   "pygments_lexer": "ipython3",
   "version": "3.11.6"
  }
 },
 "nbformat": 4,
 "nbformat_minor": 2
}
