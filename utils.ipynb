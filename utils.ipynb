{
 "cells": [
  {
   "cell_type": "code",
   "execution_count": 1,
   "metadata": {},
   "outputs": [],
   "source": [
    "import requests\n",
    "requests.packages.urllib3.disable_warnings()\n",
    "import json\n",
    "import numpy as np"
   ]
  },
  {
   "cell_type": "code",
   "execution_count": 2,
   "metadata": {},
   "outputs": [],
   "source": [
    "def encodeData(data: np.ndarray) -> bytes:\n",
    "    \"\"\"\n",
    "    Encodes the data. Returs the encoded data in bytes to be decoded in the handler.\n",
    "    Consists of:\n",
    "        3 bytes (int-big) with the length of the metadata\n",
    "        The corresponding amount of utf-8 bytes with the stringified json metadata\n",
    "        The numpy array as bytes\n",
    "\n",
    "    \"\"\"\n",
    "\n",
    "    jsonMetadata = {\n",
    "        \"shape\": list(data.shape)\n",
    "    }\n",
    "\n",
    "    metadataBytes = str(json.dumps(jsonMetadata)).encode(\"utf-8\")\n",
    "    metadataLength = len(metadataBytes).to_bytes(3)\n",
    "\n",
    "    return metadataLength + metadataBytes + data.tobytes()\n",
    "\n",
    "def decodeData(data: bytes) -> [dict, np.ndarray]:\n",
    "    \"\"\"\n",
    "    Decodes the data coming from torchserve. Response is structured the same way as above\n",
    "    \n",
    "    \"\"\"\n",
    "    metadataLength = int.from_bytes(data[:3])\n",
    "\n",
    "    rawMetadata = data[3:metadataLength+3]\n",
    "    metadata = json.loads(rawMetadata.decode('utf-8'))\n",
    "\n",
    "    array = np.frombuffer(data[metadataLength+3:], dtype=np.float32).reshape(metadata[\"shape\"])\n",
    "    return (metadata, array)\n"
   ]
  },
  {
   "cell_type": "code",
   "execution_count": 3,
   "metadata": {},
   "outputs": [],
   "source": [
    "def makeRequest(dataArray: np.ndarray, modelName:str = \"model\", port: int = 8443) -> requests.Response:\n",
    "    \"\"\"\n",
    "    Mock request.\n",
    "    \n",
    "    \"\"\"\n",
    "\n",
    "    url = f\"https://127.0.0.1:{port}/predictions/{modelName}\"\n",
    "\n",
    "    r = requests.get(url, data=encodeData(dataArray), verify=False)\n",
    "    return r"
   ]
  },
  {
   "cell_type": "code",
   "execution_count": 4,
   "metadata": {},
   "outputs": [],
   "source": [
    "data = np.random.rand(3,2)\n",
    "r = makeRequest(data)"
   ]
  },
  {
   "cell_type": "code",
   "execution_count": 5,
   "metadata": {},
   "outputs": [
    {
     "name": "stdout",
     "output_type": "stream",
     "text": [
      "{'shape': [3, 2]} [[0.5352362  0.8371547 ]\n",
      " [0.5346536  0.8348037 ]\n",
      " [0.535901   0.83983785]]\n"
     ]
    }
   ],
   "source": [
    "(metadata, array) = decodeData(r.content)\n",
    "\n",
    "print(metadata, array)"
   ]
  },
  {
   "cell_type": "code",
   "execution_count": null,
   "metadata": {},
   "outputs": [],
   "source": []
  }
 ],
 "metadata": {
  "kernelspec": {
   "display_name": "base",
   "language": "python",
   "name": "python3"
  },
  "language_info": {
   "codemirror_mode": {
    "name": "ipython",
    "version": 3
   },
   "file_extension": ".py",
   "mimetype": "text/x-python",
   "name": "python",
   "nbconvert_exporter": "python",
   "pygments_lexer": "ipython3",
   "version": "3.11.6"
  }
 },
 "nbformat": 4,
 "nbformat_minor": 2
}
